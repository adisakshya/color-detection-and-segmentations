{
 "cells": [
  {
   "cell_type": "markdown",
   "metadata": {},
   "source": [
    "## Import required modules"
   ]
  },
  {
   "cell_type": "code",
   "execution_count": 1,
   "metadata": {},
   "outputs": [
    {
     "name": "stdout",
     "output_type": "stream",
     "text": [
      "OpenCV Version:  4.1.1\n",
      "NumPy Version:  1.16.4\n"
     ]
    }
   ],
   "source": [
    "import cv2\n",
    "import numpy as np\n",
    "\n",
    "print('OpenCV Version: ', cv2.__version__)\n",
    "print('NumPy Version: ', np.__version__)"
   ]
  },
  {
   "cell_type": "markdown",
   "metadata": {},
   "source": [
    "## Function to view image"
   ]
  },
  {
   "cell_type": "code",
   "execution_count": 2,
   "metadata": {},
   "outputs": [],
   "source": [
    "def viewImage(image):\n",
    "    cv2.namedWindow('Image', cv2.WINDOW_NORMAL)\n",
    "    cv2.imshow('Image', image)\n",
    "    cv2.waitKey(0)\n",
    "    cv2.destroyAllWindows()"
   ]
  },
  {
   "cell_type": "markdown",
   "metadata": {},
   "source": [
    "## Read and view leaf image"
   ]
  },
  {
   "cell_type": "code",
   "execution_count": 3,
   "metadata": {
    "scrolled": true
   },
   "outputs": [],
   "source": [
    "image = cv2.imread('./leaf.jpeg')\n",
    "viewImage(image)"
   ]
  },
  {
   "cell_type": "markdown",
   "metadata": {},
   "source": [
    "## Green HSV color representation"
   ]
  },
  {
   "cell_type": "code",
   "execution_count": 4,
   "metadata": {},
   "outputs": [
    {
     "name": "stdout",
     "output_type": "stream",
     "text": [
      "[[[ 60 255 255]]]\n"
     ]
    }
   ],
   "source": [
    "green = np.uint8([[[0, 255, 0 ]]])\n",
    "green_hsv = cv2.cvtColor(green,cv2.COLOR_BGR2HSV)\n",
    "print( green_hsv)"
   ]
  },
  {
   "cell_type": "markdown",
   "metadata": {},
   "source": [
    "## Converting the image to HSV"
   ]
  },
  {
   "cell_type": "code",
   "execution_count": 5,
   "metadata": {},
   "outputs": [],
   "source": [
    "hsv_img = cv2.cvtColor(image, cv2.COLOR_BGR2HSV)\n",
    "viewImage(hsv_img)"
   ]
  },
  {
   "cell_type": "markdown",
   "metadata": {},
   "source": [
    "All the greens in the world lie within [45, 100, 50] to [75, 255, 255]\n",
    "\n",
    "so, range that we'll be using will be:\n",
    "    - 60–15, 100, 50\n",
    "    - 60+15, 255, 255"
   ]
  },
  {
   "cell_type": "code",
   "execution_count": 6,
   "metadata": {},
   "outputs": [],
   "source": [
    "green_low = np.array([45 , 100, 50] )\n",
    "green_high = np.array([75, 255, 255])\n",
    "curr_mask = cv2.inRange(hsv_img, green_low, green_high)\n",
    "hsv_img[curr_mask > 0] = ([75,255,200])\n",
    "viewImage(hsv_img)"
   ]
  },
  {
   "cell_type": "markdown",
   "metadata": {},
   "source": [
    "### converting the HSV image to gray inorder to be able to apply contouring"
   ]
  },
  {
   "cell_type": "code",
   "execution_count": 7,
   "metadata": {},
   "outputs": [],
   "source": [
    "RGB_again = cv2.cvtColor(hsv_img, cv2.COLOR_HSV2RGB)\n",
    "gray = cv2.cvtColor(RGB_again, cv2.COLOR_RGB2GRAY)\n",
    "viewImage(gray)\n",
    "\n",
    "ret, threshold = cv2.threshold(gray, 90, 255, 0)\n",
    "viewImage(threshold)\n",
    "\n",
    "contours, hierarchy =  cv2.findContours(threshold,cv2.RETR_TREE,cv2.CHAIN_APPROX_SIMPLE)\n",
    "cv2.drawContours(image, contours, -1, (0, 0, 255), 3)\n",
    "viewImage(image)"
   ]
  },
  {
   "cell_type": "markdown",
   "metadata": {},
   "source": [
    "## Function to get the largest contour"
   ]
  },
  {
   "cell_type": "code",
   "execution_count": 8,
   "metadata": {},
   "outputs": [],
   "source": [
    "def findGreatesContour(contours):\n",
    "    largest_area = 0\n",
    "    largest_contour_index = -1\n",
    "    i = 0\n",
    "    total_contours = len(contours)\n",
    "    while (i < total_contours ):\n",
    "        area = cv2.contourArea(contours[i])\n",
    "        if(area > largest_area):\n",
    "            largest_area = area\n",
    "            largest_contour_index = i\n",
    "        i+=1\n",
    "            \n",
    "    return largest_area, largest_contour_index"
   ]
  },
  {
   "cell_type": "markdown",
   "metadata": {},
   "source": [
    "Since there seem to be irregularities in the background as well. We can get the largest contour. The largest contour is the leaf."
   ]
  },
  {
   "cell_type": "code",
   "execution_count": 9,
   "metadata": {},
   "outputs": [
    {
     "name": "stdout",
     "output_type": "stream",
     "text": [
      "278456.5\n",
      "14\n",
      "37\n",
      "893\n",
      "165\n"
     ]
    }
   ],
   "source": [
    "cnt = contours[13]\n",
    "M = cv2.moments(cnt)\n",
    "cX = int(M[\"m10\"] / M[\"m00\"])\n",
    "cY = int(M[\"m01\"] / M[\"m00\"])\n",
    "largest_area, largest_contour_index = findGreatesContour(contours)\n",
    "print(largest_area)\n",
    "print(largest_contour_index)\n",
    "print(len(contours))\n",
    "print(cX)\n",
    "print(cY)"
   ]
  },
  {
   "cell_type": "code",
   "execution_count": null,
   "metadata": {},
   "outputs": [],
   "source": []
  }
 ],
 "metadata": {
  "kernelspec": {
   "display_name": "Python 3",
   "language": "python",
   "name": "python3"
  },
  "language_info": {
   "codemirror_mode": {
    "name": "ipython",
    "version": 3
   },
   "file_extension": ".py",
   "mimetype": "text/x-python",
   "name": "python",
   "nbconvert_exporter": "python",
   "pygments_lexer": "ipython3",
   "version": "3.7.3"
  }
 },
 "nbformat": 4,
 "nbformat_minor": 2
}
